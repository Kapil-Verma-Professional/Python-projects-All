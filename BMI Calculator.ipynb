{
 "cells": [
  {
   "cell_type": "code",
   "execution_count": 23,
   "id": "ec0e0531",
   "metadata": {},
   "outputs": [
    {
     "name": "stdout",
     "output_type": "stream",
     "text": [
      "please enter your name : Kapil \n",
      "Kapil , Please enter your weight in pounds : 227.1\n",
      "Kapil , please enter your height : 74\n",
      "29.154729729729727\n"
     ]
    }
   ],
   "source": [
    "name = str(input('please enter your name : '))\n",
    "weight = float(input(name + ', Please enter your weight in pounds : ' ))\n",
    "height = int(input(name + ', please enter your height : '))\n",
    "\n",
    "BMI = (weight * 703) / (height * height)\n",
    "print (BMI)"
   ]
  },
  {
   "cell_type": "code",
   "execution_count": 9,
   "id": "e2544e75",
   "metadata": {},
   "outputs": [
    {
     "ename": "NameError",
     "evalue": "name 'Print' is not defined",
     "output_type": "error",
     "traceback": [
      "\u001b[1;31m---------------------------------------------------------------------------\u001b[0m",
      "\u001b[1;31mNameError\u001b[0m                                 Traceback (most recent call last)",
      "Cell \u001b[1;32mIn[9], line 1\u001b[0m\n\u001b[1;32m----> 1\u001b[0m Print(weight)\n",
      "\u001b[1;31mNameError\u001b[0m: name 'Print' is not defined"
     ]
    }
   ],
   "source": [
    "Underweight = <18.5\n",
    "Normal weight = 18.5–24.9\n",
    "Overweight = 25–29.9\n",
    "Obesity = BMI of 30 or greater"
   ]
  },
  {
   "cell_type": "code",
   "execution_count": 24,
   "id": "c8c0a813",
   "metadata": {},
   "outputs": [
    {
     "name": "stdout",
     "output_type": "stream",
     "text": [
      "Kapil  , you are over weight\n"
     ]
    }
   ],
   "source": [
    "if BMI>0:\n",
    "    if BMI < 18.5 :\n",
    "        print (name + ' , you are under weight')\n",
    "    elif BMI < 24.9 :\n",
    "        print(name + ' , you are normal weight')\n",
    "    elif BMI < 29.9 :\n",
    "        print(name + ' , you are over weight')\n",
    "    else:\n",
    "        print(name + ' , you are Obese ')"
   ]
  },
  {
   "cell_type": "code",
   "execution_count": 25,
   "id": "78e53a88",
   "metadata": {},
   "outputs": [
    {
     "name": "stdout",
     "output_type": "stream",
     "text": [
      "please enter your name : kapil\n",
      "kapil, Please enter your weight in pounds : 227.1\n",
      "kapil, please enter your height : 74\n",
      "29.154729729729727\n",
      "kapil , you are over weight\n"
     ]
    }
   ],
   "source": [
    "name = str(input('please enter your name : '))\n",
    "weight = float(input(name + ', Please enter your weight in pounds : ' ))\n",
    "height = int(input(name + ', please enter your height in inches : '))\n",
    "\n",
    "BMI = (weight * 703) / (height * height)\n",
    "print (BMI)\n",
    "\n",
    "if BMI>0:\n",
    "    if BMI < 18.5 :\n",
    "        print (name + ' , you are under weight')\n",
    "    elif BMI < 24.9 :\n",
    "        print(name + ' , you are normal weight')\n",
    "    elif BMI < 29.9 :\n",
    "        print(name + ' , you are over weight')\n",
    "    else:\n",
    "        print(name + ' , you are Obese ')"
   ]
  },
  {
   "cell_type": "code",
   "execution_count": null,
   "id": "72855139",
   "metadata": {},
   "outputs": [],
   "source": []
  }
 ],
 "metadata": {
  "kernelspec": {
   "display_name": "Python 3 (ipykernel)",
   "language": "python",
   "name": "python3"
  },
  "language_info": {
   "codemirror_mode": {
    "name": "ipython",
    "version": 3
   },
   "file_extension": ".py",
   "mimetype": "text/x-python",
   "name": "python",
   "nbconvert_exporter": "python",
   "pygments_lexer": "ipython3",
   "version": "3.11.3"
  }
 },
 "nbformat": 4,
 "nbformat_minor": 5
}
