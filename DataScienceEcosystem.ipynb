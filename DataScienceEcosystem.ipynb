{
 "cells": [
  {
   "cell_type": "markdown",
   "id": "bdf67793",
   "metadata": {},
   "source": [
    "# Data Science Tools and Ecosystem\n",
    "\n"
   ]
  },
  {
   "cell_type": "markdown",
   "id": "41cdb304",
   "metadata": {},
   "source": [
    "## Objectives:\n",
    "\n",
    "* List popular languages for Data Science.\n",
    "* Explore some commonly used Data Science libraries.\n",
    "* Understand basic data manipulation and mathematical operations in Python.\n",
    "* Share code and collaborate using Jupyter notebooks and GitHub."
   ]
  },
  {
   "cell_type": "markdown",
   "id": "0d1fb73b",
   "metadata": {},
   "source": [
    "Some of the popular languages that Data Scientists use are\n",
    "1. python\n",
    "2. r\n",
    "3. sql\n",
    "4. julia\n",
    "5. java"
   ]
  },
  {
   "cell_type": "markdown",
   "id": "ee950056",
   "metadata": {},
   "source": [
    "In this notebook, Data Science Tools and Ecosystem are summarized"
   ]
  },
  {
   "cell_type": "markdown",
   "id": "12374370",
   "metadata": {},
   "source": [
    "Some of the commonly used libraries used by Data Scientists include:\n",
    "1. TensorFlow.\n",
    "2. NumPy.\n",
    "3. SciPy.\n",
    "4. Pandas.\n",
    "5. Matplotlib.\n",
    "6. Keras.\n",
    "7. SciKit-Learn.\n",
    "8. PyTorch.\n",
    "9. Scrapy.\n",
    "10. BeautifulSoup."
   ]
  },
  {
   "cell_type": "markdown",
   "id": "39081ff1",
   "metadata": {},
   "source": [
    "Data Science Tools:\n",
    "\n",
    "\n",
    "| Tool | Description |\n",
    "|---|---|\n",
    "| Jupyter Notebook | An interactive environment for writing and running code |\n",
    "| RStudio | An integrated development environment (IDE) for R |\n",
    "| Apache Spark | A unified analytics engine for large-scale data processing |"
   ]
  },
  {
   "cell_type": "markdown",
   "id": "91330147",
   "metadata": {},
   "source": [
    "### Below are a few examples of evaluating arithmetic expressions in Python"
   ]
  },
  {
   "cell_type": "code",
   "execution_count": 7,
   "id": "c43b9f59",
   "metadata": {},
   "outputs": [
    {
     "name": "stdout",
     "output_type": "stream",
     "text": [
      "The result is 17\n"
     ]
    }
   ],
   "source": [
    "# This a simple arithmetic expression to mutiply then add integers\n",
    "Result = (3*4)+5\n",
    "print(\"The result is\",Result)"
   ]
  },
  {
   "cell_type": "code",
   "execution_count": 8,
   "id": "374f698e",
   "metadata": {},
   "outputs": [
    {
     "name": "stdout",
     "output_type": "stream",
     "text": [
      "Total Hours =  3.3333333333333335\n"
     ]
    }
   ],
   "source": [
    "# This will convert 200 minutes to hours by diving by 60\n",
    "Hours = 200/60\n",
    "print(\"Total Hours = \",Hours)"
   ]
  },
  {
   "cell_type": "markdown",
   "id": "ad5f6dc3",
   "metadata": {},
   "source": [
    "## Author\n",
    "\n",
    "Kapil Verma"
   ]
  }
 ],
 "metadata": {
  "kernelspec": {
   "display_name": "Python 3 (ipykernel)",
   "language": "python",
   "name": "python3"
  },
  "language_info": {
   "codemirror_mode": {
    "name": "ipython",
    "version": 3
   },
   "file_extension": ".py",
   "mimetype": "text/x-python",
   "name": "python",
   "nbconvert_exporter": "python",
   "pygments_lexer": "ipython3",
   "version": "3.11.3"
  }
 },
 "nbformat": 4,
 "nbformat_minor": 5
}
