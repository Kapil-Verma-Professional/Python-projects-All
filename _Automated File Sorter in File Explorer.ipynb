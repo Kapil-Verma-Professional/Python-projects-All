{
 "cells": [
  {
   "cell_type": "code",
   "execution_count": 21,
   "id": "3fec32f6",
   "metadata": {},
   "outputs": [],
   "source": [
    "import os, shutil \n",
    "\n",
    "path = r\"C:/Users/Kapil/Desktop/portfolio project sql/PYthon/\"\n",
    "\n",
    "file_name = os.listdir(path)\n",
    "\n",
    "folder_name = ['csv files' , 'image files' , 'text files']\n",
    "\n",
    "for loop in range(0,3) :\n",
    "    if not os.path.exists(path + folder_name[loop]):\n",
    "        print((path + folder_name[loop]))\n",
    "        os.makedirs(path + folder_name[loop])\n",
    "        \n",
    "for file in file_name:\n",
    "    if '.csv' in file and not os.path.exists(path + 'csv files/' +  file) :\n",
    "        shutil.move(path +  file , path + 'csv files/' +  file )\n",
    "    \n",
    "    elif '.txt' in file and not os.path.exists(path + 'csv files/' +  file) :\n",
    "        shutil.move(path +  file , path + 'text files/' +  file )\n",
    "    \n",
    "    elif'.jpg' in file and not os.path.exists(path + 'csv files/' +  file) :\n",
    "        shutil.move(path +  file , path + 'image files/' +  file )\n",
    "    \n"
   ]
  },
  {
   "cell_type": "code",
   "execution_count": null,
   "id": "d060b190",
   "metadata": {},
   "outputs": [],
   "source": []
  },
  {
   "cell_type": "code",
   "execution_count": null,
   "id": "db606896",
   "metadata": {},
   "outputs": [],
   "source": []
  },
  {
   "cell_type": "code",
   "execution_count": 18,
   "id": "968b9454",
   "metadata": {},
   "outputs": [],
   "source": []
  },
  {
   "cell_type": "code",
   "execution_count": null,
   "id": "54a458a0",
   "metadata": {},
   "outputs": [],
   "source": []
  }
 ],
 "metadata": {
  "kernelspec": {
   "display_name": "Python 3 (ipykernel)",
   "language": "python",
   "name": "python3"
  },
  "language_info": {
   "codemirror_mode": {
    "name": "ipython",
    "version": 3
   },
   "file_extension": ".py",
   "mimetype": "text/x-python",
   "name": "python",
   "nbconvert_exporter": "python",
   "pygments_lexer": "ipython3",
   "version": "3.11.3"
  }
 },
 "nbformat": 4,
 "nbformat_minor": 5
}
